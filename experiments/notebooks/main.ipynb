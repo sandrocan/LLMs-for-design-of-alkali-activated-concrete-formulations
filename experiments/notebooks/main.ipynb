{
 "cells": [
  {
   "cell_type": "markdown",
   "id": "1f860bd5-1f48-4f1d-83f1-dd48b3a62c08",
   "metadata": {},
   "source": [
    " "
   ]
  },
  {
   "cell_type": "code",
   "execution_count": 164,
   "id": "7bce5b76-1528-4774-a39a-796a9d2ccc8b",
   "metadata": {},
   "outputs": [],
   "source": [
    "%run utilities.ipynb"
   ]
  },
  {
   "cell_type": "code",
   "execution_count": 165,
   "id": "bd81528c-f314-4162-9b67-a38f9aa951e5",
   "metadata": {},
   "outputs": [
    {
     "data": {
      "application/vnd.jupyter.widget-view+json": {
       "model_id": "c9e9f27d394244ce87d2c979304d2771",
       "version_major": 2,
       "version_minor": 0
      },
      "text/plain": [
       "VBox(children=(HTML(value='<h1>Configuration of inverse design experiments<h1/><h2>Please select from the opti…"
      ]
     },
     "metadata": {},
     "output_type": "display_data"
    }
   ],
   "source": [
    "%run experiment_config.ipynb"
   ]
  },
  {
   "cell_type": "code",
   "execution_count": 166,
   "id": "91faf08c-0237-4662-bcdc-48b4eeb4a460",
   "metadata": {},
   "outputs": [
    {
     "data": {
      "application/vnd.jupyter.widget-view+json": {
       "model_id": "d80d0372d49048b4915e7fb0b0c143cc",
       "version_major": 2,
       "version_minor": 0
      },
      "text/plain": [
       "HTML(value='<h1>Great! Below, you may edit the prompt that will be used for the experiments: </h1>')"
      ]
     },
     "metadata": {},
     "output_type": "display_data"
    },
    {
     "data": {
      "application/vnd.jupyter.widget-view+json": {
       "model_id": "f82662381cb44981949afb8551ef6958",
       "version_major": 2,
       "version_minor": 0
      },
      "text/plain": [
       "VBox(children=(Textarea(value=\"////You are a powerful concrete formulation prediction model tasked with findin…"
      ]
     },
     "metadata": {},
     "output_type": "display_data"
    }
   ],
   "source": [
    "%run prompt_config.ipynb"
   ]
  },
  {
   "cell_type": "code",
   "execution_count": 169,
   "id": "72d02698-7e46-43ec-9e78-454f032df7f7",
   "metadata": {},
   "outputs": [
    {
     "data": {
      "application/vnd.jupyter.widget-view+json": {
       "model_id": "799ccb25761f443e882b9592b6c664c0",
       "version_major": 2,
       "version_minor": 0
      },
      "text/plain": [
       "HTML(value='<h1>Experiment overview: </h1>')"
      ]
     },
     "metadata": {},
     "output_type": "display_data"
    },
    {
     "name": "stdout",
     "output_type": "stream",
     "text": [
      "The design target is to achieve a strength of  0 MPa within  10  development cycles.\n",
      "The Experiment is repeated  1  times using the  casperhansen/mixtral-instruct-awq  model and the prompt strategy:  No Context 1 - No Min MPa .\n",
      "There are  240  formulations above or equal to desired_strength.\n"
     ]
    }
   ],
   "source": [
    "%run experiment_overview.ipynb"
   ]
  },
  {
   "cell_type": "code",
   "execution_count": 171,
   "id": "48434782-ac11-4955-a18e-cb4b3a870159",
   "metadata": {},
   "outputs": [
    {
     "name": "stdout",
     "output_type": "stream",
     "text": [
      "Starting experiment number 1 ...\n",
      "\n",
      "Development cycle : 1 \n",
      "\n",
      "No match found for suggestion string:  The formulation is Powderkg = 450, wc = 0.45, materials = Fly-Ash/GGBFS at a ratio of 0.5/0.5, curing = Heat curing\n",
      "Development cycle 1: No matching lab result found for suggestion {'powderkg': '450', 'wc': '0.45', 'materials': 'Fly-Ash/GGBFS at a ratio of 0.5/0.5', 'curing': 'Heat curing'} \n",
      "\n",
      "\n",
      "Development cycle 1: Model's response did not contain a valid solution. Trying again. \n",
      "\n",
      "\n",
      "Lab data discovered for the following formulation : Powderkg = 420, wc = 0.5, materials = 0.6/0.4, curing = Heat curing\n",
      "The suggested formulation achieved a strength of 62.29 MPa. \n",
      "\n",
      "\n",
      "Development cycle : 2 \n",
      "\n",
      "Lab data discovered for the following formulation : Powderkg = 390, wc = 0.45, materials = 0.7/0.3, curing = Ambient curing\n",
      "The suggested formulation achieved a strength of 38.27 MPa. \n",
      "\n",
      "\n",
      "Development cycle : 3 \n",
      "\n",
      "Lab data discovered for the following formulation : Powderkg = 440, wc = 0.55, materials = 0.5/0.5, curing = Ambient curing\n",
      "The suggested formulation achieved a strength of 47.71 MPa. \n",
      "\n",
      "\n",
      "Development cycle : 4 \n",
      "\n",
      "Lab data discovered for the following formulation : Powderkg = 400, wc = 0.45, materials = 0.6/0.4, curing = Ambient curing\n",
      "The suggested formulation achieved a strength of 44.85 MPa. \n",
      "\n",
      "\n",
      "Development cycle : 5 \n",
      "\n",
      "Lab data discovered for the following formulation : Powderkg = 410, wc = 0.55, materials = 0.7/0.3, curing = Heat curing\n",
      "The suggested formulation achieved a strength of 31.67 MPa. \n",
      "\n",
      "\n",
      "Development cycle : 6 \n",
      "\n",
      "Lab data discovered for the following formulation : Powderkg = 450, wc = 0.45, materials = 0.5/0.5, curing = Heat curing\n",
      "The suggested formulation achieved a strength of 54.97 MPa. \n",
      "\n",
      "\n",
      "Development cycle : 7 \n",
      "\n",
      "Lab data discovered for the following formulation : Powderkg = 370, wc = 0.6, materials = 0.5/0.5, curing = Heat curing\n",
      "The suggested formulation achieved a strength of 51.9 MPa. \n",
      "\n",
      "\n",
      "Development cycle : 8 \n",
      "\n",
      "Lab data discovered for the following formulation : Powderkg = 380, wc = 0.6, materials = 0.6/0.4, curing = Ambient curing\n",
      "The suggested formulation achieved a strength of 46.27 MPa. \n",
      "\n",
      "\n",
      "Development cycle : 9 \n",
      "\n",
      "Lab data discovered for the following formulation : Powderkg = 430, wc = 0.45, materials = 0.6/0.4, curing = Heat curing\n",
      "The suggested formulation achieved a strength of 58.03 MPa. \n",
      "\n",
      "\n",
      "Development cycle : 10 \n",
      "\n",
      "Lab data discovered for the following formulation : Powderkg = 400, wc = 0.5, materials = 0.7/0.3, curing = Heat curing\n",
      "The suggested formulation achieved a strength of 43.19 MPa. \n",
      "\n",
      "\n",
      "We have tested the following formulations : ['Powderkg = 420, wc = 0.5, materials = 0.6/0.4, curing = Heat curing', 'Powderkg = 390, wc = 0.45, materials = 0.7/0.3, curing = Ambient curing', 'Powderkg = 440, wc = 0.55, materials = 0.5/0.5, curing = Ambient curing', 'Powderkg = 400, wc = 0.45, materials = 0.6/0.4, curing = Ambient curing', 'Powderkg = 410, wc = 0.55, materials = 0.7/0.3, curing = Heat curing', 'Powderkg = 450, wc = 0.45, materials = 0.5/0.5, curing = Heat curing', 'Powderkg = 370, wc = 0.6, materials = 0.5/0.5, curing = Heat curing', 'Powderkg = 380, wc = 0.6, materials = 0.6/0.4, curing = Ambient curing', 'Powderkg = 430, wc = 0.45, materials = 0.6/0.4, curing = Heat curing', 'Powderkg = 400, wc = 0.5, materials = 0.7/0.3, curing = Heat curing'] \n",
      "\n",
      "\n",
      "The highest strength out of the formulation we predicted is : 62.29 \n",
      "\n",
      "\n",
      "Data for experiment 1 successfully saved to ../results/LLM/mixtral-instruct-awq_SpecificContext_prompt_experiment_1_min_target_strength_not_specified_Dev_Cycles_10_test_time_1_1711368595_No Context 1 - No Min MPa.csv. \n",
      "\n",
      "\n"
     ]
    }
   ],
   "source": [
    "%run experiment_run.ipynb"
   ]
  }
 ],
 "metadata": {
  "kernelspec": {
   "display_name": "venv",
   "language": "python",
   "name": "python3"
  },
  "language_info": {
   "codemirror_mode": {
    "name": "ipython",
    "version": 3
   },
   "file_extension": ".py",
   "mimetype": "text/x-python",
   "name": "python",
   "nbconvert_exporter": "python",
   "pygments_lexer": "ipython3",
   "version": "3.10.13"
  }
 },
 "nbformat": 4,
 "nbformat_minor": 5
}
