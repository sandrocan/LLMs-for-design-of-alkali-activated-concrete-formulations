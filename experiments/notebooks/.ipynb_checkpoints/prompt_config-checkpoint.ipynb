{
 "cells": [
  {
   "cell_type": "code",
   "execution_count": null,
   "id": "c2698766-aa9e-4d82-bb0d-c139b5bd03bb",
   "metadata": {},
   "outputs": [],
   "source": [
    "# Load the text from the file\n",
    "if  prompt_dropdown.value == 'None 0':\n",
    "    with open('../prompts/prompts_ID_none 0.txt', 'r') as f:\n",
    "        lines = f.read().splitlines()\n",
    "elif prompt_dropdown.value == 'Specific 0':\n",
    "    with open('../prompts/prompts_ID_specific 0.txt', 'r') as f:\n",
    "        lines = f.read().splitlines()\n",
    "elif  prompt_dropdown.value == 'None 1':\n",
    "    with open('../prompts/prompts_ID_none 1.txt', 'r') as f:\n",
    "        ines = f.read().splitlines()\n",
    "elif prompt_dropdown.value == 'Specific 1':\n",
    "    with open('../prompts/prompts_ID_specific 1.txt', 'r') as f:\n",
    "        lines = f.read().splitlines()\n",
    "elif  prompt_dropdown.value == 'None 2':\n",
    "    with open('../prompts/prompts_ID_none 2.txt', 'r') as f:\n",
    "        lines = f.read().splitlines()\n",
    "elif prompt_dropdown.value == 'Specific 2':\n",
    "    with open('../prompts/prompts_ID_specific 2.txt', 'r') as f:\n",
    "        lines = f.read().splitlines()\n",
    "    \n",
    "DA_role_text = lines[0]\n",
    "context_text = lines[1]\n",
    "iterate_text = lines[2]\n",
    "VM_role_text = lines[3]\n",
    "    \n",
    "# Create the widgets with the loaded text\n",
    "layout = widgets.Layout(width='auto', height='200px')  # adjust the height and width as needed\n",
    "#instructions_prompt = widgets.Textarea(value=instructions_text, description='Instructions:', layout=layout)\n",
    "DA_role_prompt = widgets.Textarea(value=DA_role_text, description='DA Instuctions:', layout=layout)\n",
    "VM_role_prompt = widgets.Textarea(value=VM_role_text, description='VM Instuctions:', layout=layout)\n",
    "context_prompt = widgets.Textarea(value=context_text, description='Design Knowledge (Context):', layout=layout)\n",
    "iterate_prompt = widgets.Textarea(value=iterate_text, description='User:', layout=layout)\n",
    "\n",
    "prompt_container = widgets.VBox([DA_role_prompt, VM_role_prompt, context_prompt, iterate_prompt])\n",
    "title = widgets.HTML(\"<h1>Great! Below, you may edit the prompt that will be used for the experiments: </h1>\")\n",
    "display(title, prompt_container)"
   ]
  }
 ],
 "metadata": {
  "kernelspec": {
   "display_name": "Python (myvenv)",
   "language": "python",
   "name": "venv"
  },
  "language_info": {
   "codemirror_mode": {
    "name": "ipython",
    "version": 3
   },
   "file_extension": ".py",
   "mimetype": "text/x-python",
   "name": "python",
   "nbconvert_exporter": "python",
   "pygments_lexer": "ipython3",
   "version": "3.10.13"
  }
 },
 "nbformat": 4,
 "nbformat_minor": 5
}
