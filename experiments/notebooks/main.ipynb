{
 "cells": [
  {
   "cell_type": "markdown",
   "id": "1f860bd5-1f48-4f1d-83f1-dd48b3a62c08",
   "metadata": {},
   "source": [
    " "
   ]
  },
  {
   "cell_type": "code",
   "execution_count": 1,
   "id": "7bce5b76-1528-4774-a39a-796a9d2ccc8b",
   "metadata": {},
   "outputs": [],
   "source": [
    "%run utilities.ipynb"
   ]
  },
  {
   "cell_type": "code",
   "execution_count": 2,
   "id": "bd81528c-f314-4162-9b67-a38f9aa951e5",
   "metadata": {},
   "outputs": [
    {
     "data": {
      "application/vnd.jupyter.widget-view+json": {
       "model_id": "146b45f318b84a54b6b37142060f7850",
       "version_major": 2,
       "version_minor": 0
      },
      "text/plain": [
       "VBox(children=(HTML(value='<h1>Configuration of inverse design experiments<h1/><h2>Please select from the opti…"
      ]
     },
     "metadata": {},
     "output_type": "display_data"
    }
   ],
   "source": [
    "%run experiment_config.ipynb"
   ]
  },
  {
   "cell_type": "code",
   "execution_count": 3,
   "id": "91faf08c-0237-4662-bcdc-48b4eeb4a460",
   "metadata": {},
   "outputs": [
    {
     "data": {
      "application/vnd.jupyter.widget-view+json": {
       "model_id": "2da85a4bfd9d4acba4eb60b4af704d69",
       "version_major": 2,
       "version_minor": 0
      },
      "text/plain": [
       "HTML(value='<h1>Great! Below, you may edit the prompt that will be used for the experiments: </h1>')"
      ]
     },
     "metadata": {},
     "output_type": "display_data"
    },
    {
     "data": {
      "application/vnd.jupyter.widget-view+json": {
       "model_id": "b1fee906df164b6e8763d040c0b39945",
       "version_major": 2,
       "version_minor": 0
      },
      "text/plain": [
       "VBox(children=(Textarea(value=\"////You are an advanced model designed to predict the optimal concrete formulat…"
      ]
     },
     "metadata": {},
     "output_type": "display_data"
    }
   ],
   "source": [
    "%run prompt_config.ipynb"
   ]
  },
  {
   "cell_type": "code",
   "execution_count": 7,
   "id": "72d02698-7e46-43ec-9e78-454f032df7f7",
   "metadata": {},
   "outputs": [
    {
     "name": "stderr",
     "output_type": "stream",
     "text": [
      "/var/folders/v5/95th408n5yggqqt88z28y8z80000gn/T/ipykernel_34816/3887180491.py:33: FutureWarning: The behavior of DataFrame concatenation with empty or all-NA entries is deprecated. In a future version, this will no longer exclude empty or all-NA columns when determining the result dtypes. To retain the old behavior, exclude the relevant entries before the concat operation.\n",
      "  formulation_df = pd.concat([formulation_df, new_row], ignore_index=True)\n"
     ]
    },
    {
     "data": {
      "application/vnd.jupyter.widget-view+json": {
       "model_id": "db09fd711896430eb18ea7b089e52a70",
       "version_major": 2,
       "version_minor": 0
      },
      "text/plain": [
       "HTML(value='<h1>Experiment overview: </h1>')"
      ]
     },
     "metadata": {},
     "output_type": "display_data"
    },
    {
     "name": "stdout",
     "output_type": "stream",
     "text": [
      "The design target is to achieve a strength of  0 MPa within  10  development cycles.\n",
      "The Experiment is repeated  15  times using the  gpt-3.5-turbo  model and the prompt strategy:  Specific 0 .\n",
      "There are  240  formulations above or equal to desired_strength.\n"
     ]
    }
   ],
   "source": [
    "%run experiment_overview.ipynb"
   ]
  },
  {
   "cell_type": "code",
   "execution_count": 8,
   "id": "7dda2f27-4fa0-41a9-86eb-f78b09a17c8d",
   "metadata": {},
   "outputs": [
    {
     "name": "stdout",
     "output_type": "stream",
     "text": [
      "////General design knowledge //The powder content increases the compressive strength of FA/GGBFS-based geopolymer concrete due to the enhanced particle packing and pozzolanic reaction. The \"sweet spot\" is around 400 kg under ambient curing conditions, but it shifts to around 420 kg/m³ under heat curing due to the accelerated geopolymerization process. //The W/C ratio between 0.45 and 0.6 decreases the compressive strength of FA/GGBFS-based geopolymer concrete due to the increased porosity. The \"sweet spot\" is around 0.5 under both ambient and heat curing conditions, as it provides a balance between workability and strength. // Blending materials at a lower FA/GGBFS ratio of 0.5/0.5 increases the compressive strength due to the higher GGBFS content// In order to succeed quickly, firstly the FA/GGBS ratio has to be adjusted, as it significantly influences the compressive strength due to the synergistic effect of FA and GGBS. Secondly, the W/C ratio has to be changed, since it influences the porosity and thus the strength. Finally, the powder content has to be optimized, since it influences the particle packing and the pozzolanic reaction.\n"
     ]
    }
   ],
   "source": [
    "# print(DA_role_prompt.value)\n",
    "\n",
    "print(context_prompt.value)\n"
   ]
  },
  {
   "cell_type": "code",
   "execution_count": null,
   "id": "48434782-ac11-4955-a18e-cb4b3a870159",
   "metadata": {},
   "outputs": [
    {
     "name": "stdout",
     "output_type": "stream",
     "text": [
      "test\n",
      "Starting experiment number 1\n",
      "Starting development cycle 1\n"
     ]
    }
   ],
   "source": [
    "%run experiment_run.ipynb"
   ]
  }
 ],
 "metadata": {
  "kernelspec": {
   "display_name": "Python (myvenv)",
   "language": "python",
   "name": "venv"
  },
  "language_info": {
   "codemirror_mode": {
    "name": "ipython",
    "version": 3
   },
   "file_extension": ".py",
   "mimetype": "text/x-python",
   "name": "python",
   "nbconvert_exporter": "python",
   "pygments_lexer": "ipython3",
   "version": "3.10.13"
  }
 },
 "nbformat": 4,
 "nbformat_minor": 5
}
