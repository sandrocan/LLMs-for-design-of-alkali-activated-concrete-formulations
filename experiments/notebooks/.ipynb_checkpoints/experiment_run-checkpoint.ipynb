{
 "cells": [
  {
   "cell_type": "code",
   "execution_count": 4,
   "id": "967760d5-3216-4592-be63-202dadd64124",
   "metadata": {},
   "outputs": [],
   "source": [
    "from openai import OpenAI\n",
    "import openai"
   ]
  },
  {
   "cell_type": "code",
   "execution_count": 23,
   "id": "a1b124e8-9a50-4098-ac1a-eee6fe8b6799",
   "metadata": {},
   "outputs": [],
   "source": [
    "%run utilities.ipynb"
   ]
  },
  {
   "cell_type": "code",
   "execution_count": 40,
   "id": "494cffd3-b979-46b2-87da-a78865c9cc97",
   "metadata": {},
   "outputs": [
    {
     "data": {
      "text/plain": [
       "' Hello! I\\'m here to help you with any questions or problems you have to the best of my ability. However, I need a little more context to understand what you\\'re looking for in this \"test.\" Could you please provide more information or clarify what you would like me to do? I\\'ll do my best to assist you!'"
      ]
     },
     "execution_count": 40,
     "metadata": {},
     "output_type": "execute_result"
    }
   ],
   "source": [
    "def prompt_model_over_api(modelname, prompt):\n",
    "\n",
    "    client = OpenAI(api_key = \"EMPTY\", base_url = \"http://mlserver.iteratec.de:8000/v1\")\n",
    "\n",
    "    chat_completion = '' \n",
    "    try: \n",
    "        chat_completion = client.chat.completions.create(\n",
    "            messages=[\n",
    "                {\n",
    "                    \"role\": \"user\",\n",
    "                    \"content\": prompt,\n",
    "                }\n",
    "            ],\n",
    "            model=modelname \n",
    "        )\n",
    "\n",
    "    except openai.APIConnectionError as e:\n",
    "        print(\"The server could not be reached\")\n",
    "        print(e.__cause__)  # an underlying Exception, likely raised within httpx.\n",
    "    except openai.RateLimitError as e:\n",
    "        print(\"A 429 status code was received; we should back off a bit.\")\n",
    "    except openai.APIStatusError as e:\n",
    "        print(\"Another non-200-range status code was received\")\n",
    "        print(e.status_code)\n",
    "        print(e.response)\n",
    "    except openai.BadRequestError as e:\n",
    "        print(e.response)\n",
    "    except openai.InternalServerError as e:\n",
    "        print(e.response)\n",
    "    except openai.UnprocessableEntityError as e:\n",
    "        print(e.reponse)\n",
    "    except openai.NotFoundError as e:\n",
    "        print(e.response)\n",
    "    except openai.PermissionDeniedError as e:\n",
    "        print(e.response)\n",
    "\n",
    "    return chat_completion.choices[0].message.content\n",
    "\n",
    "# prompt_model_over_api(\"casperhansen/mixtral-instruct-awq\", 'this is a test')"
   ]
  },
  {
   "cell_type": "code",
   "execution_count": 37,
   "id": "2398e46b-f646-4cf1-8d10-3e5f8215fa20",
   "metadata": {},
   "outputs": [
    {
     "name": "stdout",
     "output_type": "stream",
     "text": [
      "Starting experiment number 1 \n",
      "\n",
      "Starting development cycle 1 \n",
      "\n",
      "The server could not be reached\n",
      "[Errno 8] nodename nor servname provided, or not known\n"
     ]
    },
    {
     "ename": "AttributeError",
     "evalue": "'str' object has no attribute 'message'",
     "output_type": "error",
     "traceback": [
      "\u001b[0;31m---------------------------------------------------------------------------\u001b[0m",
      "\u001b[0;31mAttributeError\u001b[0m                            Traceback (most recent call last)",
      "Cell \u001b[0;32mIn[37], line 25\u001b[0m\n\u001b[1;32m     22\u001b[0m         messages\u001b[38;5;241m.\u001b[39mappend({\u001b[38;5;124m\"\u001b[39m\u001b[38;5;124mrole\u001b[39m\u001b[38;5;124m\"\u001b[39m: \u001b[38;5;124m\"\u001b[39m\u001b[38;5;124massistant\u001b[39m\u001b[38;5;124m\"\u001b[39m, \u001b[38;5;124m\"\u001b[39m\u001b[38;5;124mcontent\u001b[39m\u001b[38;5;124m\"\u001b[39m: \u001b[38;5;124m\"\u001b[39m\u001b[38;5;124mPreviously, we have tested these formulations:\u001b[39m\u001b[38;5;130;01m\\n\u001b[39;00m\u001b[38;5;124m\"\u001b[39m \u001b[38;5;241m+\u001b[39m \u001b[38;5;124m\"\u001b[39m\u001b[38;5;130;01m\\n\u001b[39;00m\u001b[38;5;124m\"\u001b[39m\u001b[38;5;241m.\u001b[39mjoin(tested_formulations)})\n\u001b[1;32m     23\u001b[0m         messages\u001b[38;5;241m.\u001b[39mappend({\u001b[38;5;124m\"\u001b[39m\u001b[38;5;124mrole\u001b[39m\u001b[38;5;124m\"\u001b[39m: \u001b[38;5;124m\"\u001b[39m\u001b[38;5;124muser\u001b[39m\u001b[38;5;124m\"\u001b[39m, \u001b[38;5;124m\"\u001b[39m\u001b[38;5;124mcontent\u001b[39m\u001b[38;5;124m\"\u001b[39m: iterate_prompt})\n\u001b[0;32m---> 25\u001b[0m model_response \u001b[38;5;241m=\u001b[39m \u001b[43mprompt_model_over_api\u001b[49m\u001b[43m(\u001b[49m\u001b[38;5;124;43m\"\u001b[39;49m\u001b[38;5;124;43mcasperhansen/mixtral-instruct-awq\u001b[39;49m\u001b[38;5;124;43m\"\u001b[39;49m\u001b[43m,\u001b[49m\u001b[43m \u001b[49m\u001b[43mprompt\u001b[49m\u001b[43m)\u001b[49m\n\u001b[1;32m     27\u001b[0m \u001b[38;5;66;03m# print(f'Model response : {model_response} \\n')\u001b[39;00m\n\u001b[1;32m     28\u001b[0m parsed_solution \u001b[38;5;241m=\u001b[39m parse_solution(model_response)\n",
      "Cell \u001b[0;32mIn[36], line 37\u001b[0m, in \u001b[0;36mprompt_model_over_api\u001b[0;34m(modelname, prompt)\u001b[0m\n\u001b[1;32m     34\u001b[0m \u001b[38;5;28;01mexcept\u001b[39;00m openai\u001b[38;5;241m.\u001b[39mPermissionDeniedError \u001b[38;5;28;01mas\u001b[39;00m e:\n\u001b[1;32m     35\u001b[0m     \u001b[38;5;28mprint\u001b[39m(e\u001b[38;5;241m.\u001b[39mresponse)\n\u001b[0;32m---> 37\u001b[0m \u001b[38;5;28;01mreturn\u001b[39;00m \u001b[43mchat_completion\u001b[49m\u001b[38;5;241;43m.\u001b[39;49m\u001b[43mmessage\u001b[49m\u001b[38;5;241m.\u001b[39mcontent\n",
      "\u001b[0;31mAttributeError\u001b[0m: 'str' object has no attribute 'message'"
     ]
    }
   ],
   "source": [
    "experiments = 1\n",
    "dev_cycles = 3\n",
    "\n",
    "\n",
    "DA_role_prompt = '////You are an advanced model designed to predict the optimal concrete formulation for maximum compressive strength. Your predictions will undergo laboratory testing, providing real-world performance data to enhance your future recommendations. Ensure each formulation adheres to the following parameter grid //Powder content in kg: 360, 370, 380, 390, 400, 410, 420, 430, 440, 450 //Water-to-cement (WC) ratio: 0.45, 0.5, 0.55, 0.6 //Materials: Fly-Ash/GGBFS at ratios of 0.7/0.3, 0.6/0.4, 0.5/0.5 //Curing methods: Ambient curing/Heat curing ////Leverage design rules and laboratory validations to refine and improve your predictive capabilities. Responses must be formatted precisely as follows, without any additional details or context: \"The formulation is Powderkg = {your estimate}, wc = {your estimate}, materials = {your estimate}, curing = {your estimate}\"'\n",
    "context_prompt = '////General Design Insights//// The compressive strength of FA/GGBFS-based geopolymer concrete improves with increased powder content due to enhanced particle packing and the pozzolanic reaction. Under ambient curing, the optimal powder content or \"sweet spot\" is approximately 400 kg, while under heat curing, it is closer to 420 kg/m³ due to the hastened geopolymerization process. //The W/C ratio in the range of 0.45 to 0.6 results in diminished compressive strength of FA/GGBFS-based geopolymer concrete, attributed to increased porosity. A \"sweet spot\" W/C ratio of around 0.5 is ideal under both ambient and heat curing conditions, providing a harmonious balance between workability and strength. //A lower FA/GGBFS ratio of 0.5/0.5 in blended materials leads to increased compressive strength due to a greater GGBFS content.// Adjust the FA/GGBS ratio first, since it plays a crucial role in compressive strength due to the combined effects of FA and GGBS. Altering the W/C ratio is essential as it affects porosity and consequently, strength. Lastly, optimizing powder content is imperative as it impacts particle packing and pozzolanic reaction.'\n",
    "iterate_prompt = \"////You are a powerful concrete strength prediction model. You can take into account design rules and the outcome of previous lab validation to predict the compressive strength of untested novel formulations. Answer in this exact format with a single number only 'The Predicted Strength is {{your Answer}} MPa.'\"\n",
    "formulation_df = format_discovery_data_for_training()\n",
    "\n",
    "desired_strength = 65\n",
    "\n",
    "for experiment in range(experiments):\n",
    "    print(f'Starting experiment number {experiment+1} \\n')\n",
    "    system_message =  DA_role_prompt  + '\\n' + context_prompt\n",
    "    for dev_cycle in range(dev_cycles):\n",
    "        print(f'Starting development cycle {dev_cycle+1} \\n')\n",
    "        training_data = []\n",
    "        tested_formulations = []\n",
    "        messages = [{\"role\": \"system\", \"content\": system_message}]\n",
    "\n",
    "        if training_data:\n",
    "                messages.append({\"role\": \"assistant\", \"content\": \"Previously, we have tested these formulations:\\n\" + \"\\n\".join(tested_formulations)})\n",
    "                messages.append({\"role\": \"user\", \"content\": iterate_prompt})\n",
    "\n",
    "        model_response = prompt_model_over_api(\"casperhansen/mixtral-instruct-awq\", prompt)\n",
    "\n",
    "        # print(f'Model response : {model_response} \\n')\n",
    "        parsed_solution = parse_solution(model_response)\n",
    "        print(f'Parsed model response : {parsed_solution} \\n')\n",
    "\n",
    "\n",
    "        if parsed_solution is not None:\n",
    "            (lab_result, new_training_data_point) = find_matching_result(formulation_df, parsed_solution)\n",
    "                        \n",
    "            if lab_result:\n",
    "                current_strength = lab_result\n",
    "                print(f'Lab data discovered for the following formulation : {new_training_data_point} \\n')\n",
    "                training_data.append(f\"{new_training_data_point} resulted in a strength of {current_strength} MPa.\")\n",
    "                tested_formulations.append(f\"{new_training_data_point}\")\n",
    "                            \n",
    "                            \n",
    "                valid_solution = True\n",
    "                            \n",
    "                print(f'The suggested formulation achieved a strength of {current_strength} MPa.')\n",
    "            else:\n",
    "                print(f\"Development cycle {dev_cycle}: No matching lab result found for suggestion {parsed_solution}\")\n",
    "        else:\n",
    "            print(f\"Development cycle {dev_cycle}: Model's response did not contain a valid solution. Trying again.\")\n",
    "\n",
    "        if not valid_solution:\n",
    "            messages[-1][\"content\"] = iterate_prompt.value + \"\\nRemember the exact parameter grid: Powderkg: {360, 370, 380, 390,400, 410, 420, 430, 440, 450}, wc: {0.45, 0.5, 0.55, 0.6}, materials: {0.7/0.3, 0.6/0.4, 0.5/0.5}, curing: {ambient, heat}. It is extremly important that you stick to these values and reply in the following format: 'The formulation is Powderkg = {your estimate}, wc = {your estimate}, materials = {your estimate}, curing = {your estimate}'\"\n",
    "        else:\n",
    "            print(f\"Iteration {iterations}: Response not from 'assistant'. Trying again.\")\n",
    "\n",
    "        if current_strength >= desired_strength:\n",
    "            print(f\"\\nDesired compressive strength of {desired_strength} MPa achieved after {iterations} iterations. The solution is {suggested_solution}.\")\n",
    "            break\n",
    "\n",
    "\n",
    "\n",
    "\n",
    "\n"
   ]
  },
  {
   "cell_type": "code",
   "execution_count": null,
   "id": "ecf5ef3d-e0e3-434a-ad01-03327f681cec",
   "metadata": {},
   "outputs": [],
   "source": []
  }
 ],
 "metadata": {
  "kernelspec": {
   "display_name": "Python (myvenv)",
   "language": "python",
   "name": "venv"
  },
  "language_info": {
   "codemirror_mode": {
    "name": "ipython",
    "version": 3
   },
   "file_extension": ".py",
   "mimetype": "text/x-python",
   "name": "python",
   "nbconvert_exporter": "python",
   "pygments_lexer": "ipython3",
   "version": "3.10.13"
  }
 },
 "nbformat": 4,
 "nbformat_minor": 5
}
