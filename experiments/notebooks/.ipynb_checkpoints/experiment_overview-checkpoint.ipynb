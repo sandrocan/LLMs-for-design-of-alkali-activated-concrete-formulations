{
 "cells": [
  {
   "cell_type": "code",
   "execution_count": null,
   "id": "f6419ac3-a916-4efd-b507-7e38b1a5244d",
   "metadata": {},
   "outputs": [],
   "source": [
    "formulation_df = format_discovery_data_for_training()\n",
    "desired_strength = formulation_df[\"Strength\"].quantile(minimal_target_value_input.value/100)\n",
    "num_entries_above_desired = (formulation_df[\"Strength\"] >= minimal_target_value_input.value).sum()\n",
    "\n",
    "title = widgets.HTML(\"<h1>Experiment overview: </h1>\")\n",
    "display(title)\n",
    "print('The design target is to achieve a strength of ',minimal_target_value_input.value, 'MPa within ',number_development_input.value,' development cycles.\\n' +\n",
    "      'The Experiment is repeated ',number_experiments_input.value,' times using the ',model_dropdown.value, ' model and the prompt strategy: ',prompt_dropdown.value,'.')\n",
    "print(\"There are \", num_entries_above_desired,' formulations above or equal to desired_strength.')"
   ]
  }
 ],
 "metadata": {
  "kernelspec": {
   "display_name": "Python (myvenv)",
   "language": "python",
   "name": "venv"
  },
  "language_info": {
   "codemirror_mode": {
    "name": "ipython",
    "version": 3
   },
   "file_extension": ".py",
   "mimetype": "text/x-python",
   "name": "python",
   "nbconvert_exporter": "python",
   "pygments_lexer": "ipython3",
   "version": "3.10.13"
  }
 },
 "nbformat": 4,
 "nbformat_minor": 5
}
