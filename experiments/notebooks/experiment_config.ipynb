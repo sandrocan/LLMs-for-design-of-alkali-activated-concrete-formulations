{
 "cells": [
  {
   "cell_type": "code",
   "execution_count": 6,
   "id": "9c921078-27d0-4baf-b664-11682fe6cd40",
   "metadata": {},
   "outputs": [],
   "source": [
    "import ipywidgets as widgets\n",
    "import pandas as pd\n",
    "import re\n",
    "import json"
   ]
  },
  {
   "cell_type": "code",
   "execution_count": 7,
   "id": "3de50080-d897-4f62-a291-6304ef1d52bd",
   "metadata": {},
   "outputs": [
    {
     "data": {
      "application/vnd.jupyter.widget-view+json": {
       "model_id": "935abaf6787849b6bffc84cbe5199c78",
       "version_major": 2,
       "version_minor": 0
      },
      "text/plain": [
       "VBox(children=(HTML(value='<h1>Configuration of inverse design experiments<h1/><h2>Please select from the opti…"
      ]
     },
     "metadata": {},
     "output_type": "display_data"
    }
   ],
   "source": [
    "model_dropdown = widgets.Dropdown(\n",
    "    options=['gpt-3.5-turbo', 'gpt-4-1106-preview', 'casperhansen/mixtral-instruct-awq'],\n",
    "    value='gpt-3.5-turbo',\n",
    "    description='Model:', \n",
    "    style={'description_width': '150px'}\n",
    ")\n",
    "\n",
    "test_time_dropdown = widgets.Dropdown(\n",
    "        options=['1', '3'],\n",
    "        value='1',\n",
    "        description='Test Time', \n",
    "    style={'description_width': '150px'}\n",
    ")\n",
    "\n",
    "prompt_dropdown = widgets.Dropdown(\n",
    "        options=['None 0', 'None 1', 'None 2', 'Specific 0', 'Specific 1', 'Specific 2'],\n",
    "        value='None 0',\n",
    "        description='Prompt:', \n",
    "        style={'description_width': '150px'}\n",
    ")\n",
    "    \n",
    "number_development_input = widgets.IntText(\n",
    "        value=10,\n",
    "        description='Dev. Cycle:',\n",
    "        style={'description_width': '150px'}\n",
    ")\n",
    "    \n",
    "number_experiments_input = widgets.IntText(\n",
    "        value=1,\n",
    "        description='Experiments:',\n",
    "        style={'description_width': '150px'}\n",
    ")\n",
    "    \n",
    "# conversation_dropdown = widgets.Dropdown(\n",
    "#         options=['Complete', 'Exceptions+Results'],\n",
    "#         value='Exceptions+Results',\n",
    "#         description='Display Conversation:', \n",
    "#         style={'description_width': '150px'}\n",
    "# )\n",
    "    \n",
    "minimal_target_value_dropdown = widgets.Dropdown(\n",
    "        description='specify min MPa',\n",
    "        options=[('No', 'no'),('Yes', 'yes'),],\n",
    "        value='no',  # Default value\n",
    "        disabled=False, \n",
    "        style={'description_width': '150px'}\n",
    ")\n",
    "\n",
    "minimal_target_value_input = widgets.IntText(\n",
    "        value=0,\n",
    "        description='min MPa Value',\n",
    "        disabled=True, \n",
    "        style={'description_width': '150px'}\n",
    ")\n",
    "\n",
    "prompt_configuration_button = widgets.Button(\n",
    "        description='Continue',\n",
    "        button_style='info',\n",
    "        tooltip='Continue',\n",
    "        icon='flask', \n",
    "        style={'description_width': '150px'}\n",
    ")\n",
    "    \n",
    "def on_dropdown_change(change):\n",
    "        minimal_target_value_input.disabled = change['new'] == 'no' # Enable the integer input\n",
    "\n",
    "minimal_target_value_dropdown.observe(on_dropdown_change, names='value')\n",
    "\n",
    "\n",
    "container = widgets.VBox([model_dropdown, number_development_input, number_experiments_input, prompt_dropdown, \n",
    "                               test_time_dropdown, minimal_target_value_dropdown, minimal_target_value_input])\n",
    "    \n",
    "title = widgets.HTML(\"<h1>Configuration of inverse design experiments<h1/><h2>Please select from the options below to configure the experiments you want to run</h2>\")\n",
    "configuration = widgets.VBox([title ,container])\n",
    "display(configuration)"
   ]
  }
 ],
 "metadata": {
  "kernelspec": {
   "display_name": "Python (myvenv)",
   "language": "python",
   "name": "venv"
  },
  "language_info": {
   "codemirror_mode": {
    "name": "ipython",
    "version": 3
   },
   "file_extension": ".py",
   "mimetype": "text/x-python",
   "name": "python",
   "nbconvert_exporter": "python",
   "pygments_lexer": "ipython3",
   "version": "3.10.13"
  }
 },
 "nbformat": 4,
 "nbformat_minor": 5
}
