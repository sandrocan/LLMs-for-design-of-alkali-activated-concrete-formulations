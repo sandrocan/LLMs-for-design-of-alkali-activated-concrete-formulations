{
 "cells": [
  {
   "cell_type": "markdown",
   "id": "1f860bd5-1f48-4f1d-83f1-dd48b3a62c08",
   "metadata": {},
   "source": [
    " "
   ]
  },
  {
   "cell_type": "code",
   "execution_count": 16,
   "id": "7bce5b76-1528-4774-a39a-796a9d2ccc8b",
   "metadata": {},
   "outputs": [],
   "source": [
    "%run utilities.ipynb"
   ]
  },
  {
   "cell_type": "code",
   "execution_count": 17,
   "id": "bd81528c-f314-4162-9b67-a38f9aa951e5",
   "metadata": {},
   "outputs": [
    {
     "data": {
      "application/vnd.jupyter.widget-view+json": {
       "model_id": "48e4b8eb8b7a4ebfa7cd7ebda59a1755",
       "version_major": 2,
       "version_minor": 0
      },
      "text/plain": [
       "VBox(children=(HTML(value='<h1>Configuration of inverse design experiments<h1/><h2>Specify the experiments you…"
      ]
     },
     "metadata": {},
     "output_type": "display_data"
    }
   ],
   "source": [
    "%run experiment_config.ipynb"
   ]
  },
  {
   "cell_type": "code",
   "execution_count": 18,
   "id": "91faf08c-0237-4662-bcdc-48b4eeb4a460",
   "metadata": {},
   "outputs": [
    {
     "data": {
      "application/vnd.jupyter.widget-view+json": {
       "model_id": "c849e0b1b2e3460f865cedf2502a1005",
       "version_major": 2,
       "version_minor": 0
      },
      "text/plain": [
       "HTML(value='<h1>Great! Below, you may edit the prompt that will be used for the experiments: </h1>')"
      ]
     },
     "metadata": {},
     "output_type": "display_data"
    },
    {
     "data": {
      "application/vnd.jupyter.widget-view+json": {
       "model_id": "b9a20fd57d624a89999540efe832eee6",
       "version_major": 2,
       "version_minor": 0
      },
      "text/plain": [
       "VBox(children=(Textarea(value=\"////You are a powerful concrete formulation prediction model tasked with findin…"
      ]
     },
     "metadata": {},
     "output_type": "display_data"
    }
   ],
   "source": [
    "%run prompt_config.ipynb"
   ]
  },
  {
   "cell_type": "code",
   "execution_count": 19,
   "id": "72d02698-7e46-43ec-9e78-454f032df7f7",
   "metadata": {},
   "outputs": [
    {
     "data": {
      "application/vnd.jupyter.widget-view+json": {
       "model_id": "58aa59697a7848efbe4c9f2a98f4744c",
       "version_major": 2,
       "version_minor": 0
      },
      "text/plain": [
       "HTML(value='<h1>Experiment overview: </h1>')"
      ]
     },
     "metadata": {},
     "output_type": "display_data"
    },
    {
     "name": "stdout",
     "output_type": "stream",
     "text": [
      "The design target is to achieve a strength of  0 MPa within  3  development cycles.\n",
      "The Experiment is repeated  1  times using the  llama3  model and the prompt strategy:  No Context 1 - Optimal MPa .\n",
      "There are  240  formulations above or equal to desired_strength.\n"
     ]
    }
   ],
   "source": [
    "%run experiment_overview.ipynb"
   ]
  },
  {
   "cell_type": "code",
   "execution_count": 24,
   "id": "48434782-ac11-4955-a18e-cb4b3a870159",
   "metadata": {},
   "outputs": [
    {
     "name": "stdout",
     "output_type": "stream",
     "text": [
      "Starting experiment number 1 ...\n",
      "\n",
      "Development cycle : 1 \n",
      "\n",
      "Lab data discovered for the following formulation : Powderkg = 410, wc = 0.55, materials = 0.6/0.4, curing = Ambient curing\n",
      "The suggested formulation achieved a strength of 45.02 MPa. \n",
      "\n",
      "\n",
      "Development cycle : 2 \n",
      "\n",
      "Lab data discovered for the following formulation : Powderkg = 420, wc = 0.5, materials = 0.7/0.3, curing = Heat curing\n",
      "The suggested formulation achieved a strength of 43.5 MPa. \n",
      "\n",
      "\n",
      "Development cycle : 3 \n",
      "\n",
      "Lab data discovered for the following formulation : Powderkg = 440, wc = 0.6, materials = 0.5/0.5, curing = Ambient curing\n",
      "The suggested formulation achieved a strength of 47.61 MPa. \n",
      "\n",
      "\n",
      "We have tested the following formulations : ['Powderkg = 410, wc = 0.55, materials = 0.6/0.4, curing = Ambient curing', 'Powderkg = 420, wc = 0.5, materials = 0.7/0.3, curing = Heat curing', 'Powderkg = 440, wc = 0.6, materials = 0.5/0.5, curing = Ambient curing'] \n",
      "\n",
      "\n",
      "The highest strength out of the formulation we predicted is : 47.61 \n",
      "\n",
      "\n",
      "Data for experiment 1 successfully saved to ../results/llama3_NoContext_prompt_experiment_1_temp_0_target_Optimal_%_Dev_Budget_3_recursive_1_1720177734No Context 1 - Optimal MPa.csv. \n",
      "\n",
      "\n"
     ]
    }
   ],
   "source": [
    "%run experiment_run.ipynb"
   ]
  },
  {
   "cell_type": "code",
   "execution_count": null,
   "id": "86224b8f",
   "metadata": {},
   "outputs": [],
   "source": []
  }
 ],
 "metadata": {
  "kernelspec": {
   "display_name": "Python (myvenv)",
   "language": "python",
   "name": "venv"
  },
  "language_info": {
   "codemirror_mode": {
    "name": "ipython",
    "version": 3
   },
   "file_extension": ".py",
   "mimetype": "text/x-python",
   "name": "python",
   "nbconvert_exporter": "python",
   "pygments_lexer": "ipython3",
   "version": "3.10.13"
  }
 },
 "nbformat": 4,
 "nbformat_minor": 5
}
