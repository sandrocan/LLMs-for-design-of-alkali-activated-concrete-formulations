{
 "cells": [
  {
   "cell_type": "markdown",
   "id": "1f860bd5-1f48-4f1d-83f1-dd48b3a62c08",
   "metadata": {},
   "source": [
    " "
   ]
  },
  {
   "cell_type": "code",
   "execution_count": 203,
   "id": "7bce5b76-1528-4774-a39a-796a9d2ccc8b",
   "metadata": {},
   "outputs": [],
   "source": [
    "%run utilities.ipynb"
   ]
  },
  {
   "cell_type": "code",
   "execution_count": 204,
   "id": "bd81528c-f314-4162-9b67-a38f9aa951e5",
   "metadata": {},
   "outputs": [
    {
     "data": {
      "application/vnd.jupyter.widget-view+json": {
       "model_id": "0801dbcfa0ad4a2e84eeb697094b9ed0",
       "version_major": 2,
       "version_minor": 0
      },
      "text/plain": [
       "VBox(children=(HTML(value='<h1>Configuration of inverse design experiments<h1/><h2>Specify the experiments you…"
      ]
     },
     "metadata": {},
     "output_type": "display_data"
    }
   ],
   "source": [
    "%run experiment_config.ipynb"
   ]
  },
  {
   "cell_type": "code",
   "execution_count": 205,
   "id": "91faf08c-0237-4662-bcdc-48b4eeb4a460",
   "metadata": {},
   "outputs": [
    {
     "data": {
      "application/vnd.jupyter.widget-view+json": {
       "model_id": "428744daeb4b46a3a0ae4f50b966190c",
       "version_major": 2,
       "version_minor": 0
      },
      "text/plain": [
       "HTML(value='<h1>Great! Below, you may edit the prompt that will be used for the experiments: </h1>')"
      ]
     },
     "metadata": {},
     "output_type": "display_data"
    },
    {
     "data": {
      "application/vnd.jupyter.widget-view+json": {
       "model_id": "1370d0b809a841078989cce0d5c36050",
       "version_major": 2,
       "version_minor": 0
      },
      "text/plain": [
       "VBox(children=(Textarea(value=\"////You are a powerful concrete formulation prediction model tasked with findin…"
      ]
     },
     "metadata": {},
     "output_type": "display_data"
    }
   ],
   "source": [
    "%run prompt_config.ipynb"
   ]
  },
  {
   "cell_type": "code",
   "execution_count": 213,
   "id": "72d02698-7e46-43ec-9e78-454f032df7f7",
   "metadata": {},
   "outputs": [
    {
     "data": {
      "application/vnd.jupyter.widget-view+json": {
       "model_id": "b90602934f2748bf86c38aaed856960b",
       "version_major": 2,
       "version_minor": 0
      },
      "text/plain": [
       "HTML(value='<h1>Experiment overview: </h1>')"
      ]
     },
     "metadata": {},
     "output_type": "display_data"
    },
    {
     "name": "stdout",
     "output_type": "stream",
     "text": [
      "The design target is to achieve a strength of  0 MPa within  2  development cycles.\n",
      "The Experiment is repeated  1  times using the  casperhansen/mixtral-instruct-awq  model and the prompt strategy:  No Context 1 - Optimal MPa .\n",
      "There are  240  formulations above or equal to desired_strength.\n"
     ]
    }
   ],
   "source": [
    "%run experiment_overview.ipynb"
   ]
  },
  {
   "cell_type": "code",
   "execution_count": 220,
   "id": "48434782-ac11-4955-a18e-cb4b3a870159",
   "metadata": {},
   "outputs": [
    {
     "name": "stdout",
     "output_type": "stream",
     "text": [
      "Starting experiment number 1 ...\n",
      "\n",
      "Development cycle : 1 \n",
      "\n",
      "No match found for suggestion string:  The formulation is Powderkg = 450, wc = 0.45, materials = 0.5/0.5 (50% Fly Ash and 50% GGBFS), curing = Heat curing\n",
      "Development cycle 1: No matching lab result found for suggestion {'powderkg': '450', 'wc': '0.45', 'materials': '0.5/0.5 (50% Fly Ash and 50% GGBFS)', 'curing': 'Heat curing'} \n",
      "\n",
      "\n",
      "Development cycle 1: Model's response did not contain a valid solution. Trying again. \n",
      "\n",
      "\n",
      "Lab data discovered for the following formulation : Powderkg = 400, wc = 0.55, materials = 0.6/0.4, curing = Heat curing\n",
      "The suggested formulation achieved a strength of 57.12 MPa. \n",
      "\n",
      "\n",
      "We have tested the following formulations : ['Powderkg = 400, wc = 0.55, materials = 0.6/0.4, curing = Heat curing'] \n",
      "\n",
      "\n",
      "The highest strength out of the formulation we predicted is : 57.12 \n",
      "\n",
      "\n",
      "Data for experiment 1 successfully saved to ../results/LLM/mixtral-instruct-awq_Experiment_1_Prompt_No_Context_1_Optimal_MPa_Target_Optimal_Target_MPa_Dev_Cycles_1_Test_Time_1_1711381776.csv. \n",
      "\n",
      "\n"
     ]
    }
   ],
   "source": [
    "%run experiment_run.ipynb"
   ]
  }
 ],
 "metadata": {
  "kernelspec": {
   "display_name": "venv",
   "language": "python",
   "name": "python3"
  },
  "language_info": {
   "codemirror_mode": {
    "name": "ipython",
    "version": 3
   },
   "file_extension": ".py",
   "mimetype": "text/x-python",
   "name": "python",
   "nbconvert_exporter": "python",
   "pygments_lexer": "ipython3",
   "version": "3.10.13"
  }
 },
 "nbformat": 4,
 "nbformat_minor": 5
}
