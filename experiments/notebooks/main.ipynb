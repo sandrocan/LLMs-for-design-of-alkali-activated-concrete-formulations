{
 "cells": [
  {
   "cell_type": "code",
   "execution_count": 4,
   "id": "57cfba19-4e2c-4906-9a97-e196474129a8",
   "metadata": {},
   "outputs": [
    {
     "data": {
      "application/vnd.jupyter.widget-view+json": {
       "model_id": "7aed1112eea1472faac12a73daba11a6",
       "version_major": 2,
       "version_minor": 0
      },
      "text/plain": [
       "VBox(children=(HTML(value='<h1>Configuration of inverse design experiments<h1/><h2>Please select from the opti…"
      ]
     },
     "metadata": {},
     "output_type": "display_data"
    }
   ],
   "source": [
    "# Hi! Run this notebook to replicate the experiments conducted in the paper 'LLMs-for-design-of-alkali-activated-concrete-formulations'\n",
    "# In order to run experiments you need to specify an OpenAI api_key or have a vpn access to iteratec's ml-server\n",
    "\n",
    "# First, you must configure the experiments you would like to run:\n",
    "%run ./configuration.ipynb"
   ]
  },
  {
   "cell_type": "code",
   "execution_count": 6,
   "id": "316a827e-708c-42db-a561-df5ea8226c9a",
   "metadata": {},
   "outputs": [
    {
     "ename": "NameError",
     "evalue": "name 'prompt_dropdown' is not defined",
     "output_type": "error",
     "traceback": [
      "\u001b[0;31m---------------------------------------------------------------------------\u001b[0m",
      "\u001b[0;31mNameError\u001b[0m                                 Traceback (most recent call last)",
      "Cell \u001b[0;32mIn[6], line 2\u001b[0m\n\u001b[1;32m      1\u001b[0m \u001b[38;5;66;03m# Great, in the next step you may edit the prompt you selected to use in the experiment:\u001b[39;00m\n\u001b[0;32m----> 2\u001b[0m \u001b[38;5;28mprint\u001b[39m(\u001b[43mprompt_dropdown\u001b[49m\u001b[38;5;241m.\u001b[39mvalue)\n",
      "\u001b[0;31mNameError\u001b[0m: name 'prompt_dropdown' is not defined"
     ]
    }
   ],
   "source": [
    "# Great, in the next step you may edit the prompt you selected to use in the experiment:\n",
    "print(prompt_dropdown.value)"
   ]
  },
  {
   "cell_type": "markdown",
   "id": "9bfc4535-f4df-4038-9fd4-033547163bc8",
   "metadata": {},
   "source": []
  }
 ],
 "metadata": {
  "kernelspec": {
   "display_name": "Python (myvenv)",
   "language": "python",
   "name": "venv"
  },
  "language_info": {
   "codemirror_mode": {
    "name": "ipython",
    "version": 3
   },
   "file_extension": ".py",
   "mimetype": "text/x-python",
   "name": "python",
   "nbconvert_exporter": "python",
   "pygments_lexer": "ipython3",
   "version": "3.10.13"
  }
 },
 "nbformat": 4,
 "nbformat_minor": 5
}
