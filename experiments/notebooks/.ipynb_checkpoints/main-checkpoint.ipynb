{
 "cells": [
  {
   "cell_type": "code",
   "execution_count": 1,
   "id": "57cfba19-4e2c-4906-9a97-e196474129a8",
   "metadata": {},
   "outputs": [],
   "source": [
    "# Hi! Run this notebook to replicate the experiments conducted in the paper 'LLMs-for-design-of-alkali-activated-concrete-formulations'\n",
    "# In order to run experiments you need to specify an OpenAI api_key or have a vpn access to iteratec's ml-server"
   ]
  },
  {
   "cell_type": "markdown",
   "id": "9bfc4535-f4df-4038-9fd4-033547163bc8",
   "metadata": {},
   "source": []
  }
 ],
 "metadata": {
  "kernelspec": {
   "display_name": "Python (myvenv)",
   "language": "python",
   "name": "venv"
  },
  "language_info": {
   "codemirror_mode": {
    "name": "ipython",
    "version": 3
   },
   "file_extension": ".py",
   "mimetype": "text/x-python",
   "name": "python",
   "nbconvert_exporter": "python",
   "pygments_lexer": "ipython3",
   "version": "3.10.13"
  }
 },
 "nbformat": 4,
 "nbformat_minor": 5
}
