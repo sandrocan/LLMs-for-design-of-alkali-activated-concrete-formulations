{
 "cells": [
  {
   "cell_type": "code",
   "execution_count": 6,
   "id": "9c921078-27d0-4baf-b664-11682fe6cd40",
   "metadata": {},
   "outputs": [],
   "source": [
    "import ipywidgets as widgets\n",
    "import pandas as pd\n",
    "import re\n",
    "import json"
   ]
  },
  {
   "cell_type": "code",
   "execution_count": 7,
   "id": "3de50080-d897-4f62-a291-6304ef1d52bd",
   "metadata": {},
   "outputs": [
    {
     "data": {
      "application/vnd.jupyter.widget-view+json": {
       "model_id": "935abaf6787849b6bffc84cbe5199c78",
       "version_major": 2,
       "version_minor": 0
      },
      "text/plain": [
       "VBox(children=(HTML(value='<h1>Configuration of inverse design experiments<h1/><h2>Please select from the opti…"
      ]
     },
     "metadata": {},
     "output_type": "display_data"
    }
   ],
   "source": [
    "model_dropdown = widgets.Dropdown(\n",
    "    options=['gpt-3.5-turbo', 'gpt-4-1106-preview', 'casperhansen/mixtral-instruct-awq'],\n",
    "    value='casperhansen/mixtral-instruct-awq',\n",
    "    description='Model :',\n",
    "    layout={'width': '50%'},\n",
    "    style={'description_width': '300px'}  \n",
    ")\n",
    "\n",
    "minimal_target_value_dropdown = widgets.Dropdown(\n",
    "        description='Set Minimal MPa Target :',\n",
    "        options=[('No', 'no'),('Yes', 'yes'),],\n",
    "        value='no',  # Default value\n",
    "        disabled=False, \n",
    "        layout={'width': '50%'},\n",
    "        style={'description_width': '300px'}  \n",
    ")\n",
    "\n",
    "minimal_target_value_input = widgets.IntText(\n",
    "        value=0,\n",
    "        description='Minimal MPa Value :',\n",
    "        disabled=True, \n",
    "        layout={'width': '50%'},\n",
    "        style={'description_width': '300px'}\n",
    ")\n",
    "\n",
    "prompt_dropdown = widgets.Dropdown(\n",
    "        options=['No Context 1 - Optimal MPa', 'No Context 2 - Optimal MPa', 'No Context 3 - Optimal MPa', 'Context 1 - Optimal MPa', 'Context 2 - Optimal MPa', 'Context 3 - Optimal MPa'],\n",
    "        description='Prompt :',\n",
    "        layout={'width': '50%'},\n",
    "        style={'description_width': '300px'} \n",
    ")\n",
    "\n",
    "test_time_dropdown = widgets.Dropdown(\n",
    "        options=['1', '3'],\n",
    "        value='1',\n",
    "        description='Test Time :', \n",
    "        layout={'width': '50%'},\n",
    "        style={'description_width': '300px'}\n",
    ")   \n",
    "number_development_input = widgets.IntText(\n",
    "        value=10,\n",
    "        description='Development Cycles :',\n",
    "        layout={'width': '50%'},\n",
    "        style={'description_width': '300px'}\n",
    ")\n",
    "    \n",
    "number_experiments_input = widgets.IntText(\n",
    "        value=1,\n",
    "        description='Experiments :',\n",
    "        layout={'width': '50%'},\n",
    "        style={'description_width': '300px'}\n",
    ")\n",
    "    \n",
    "prompt_configuration_button = widgets.Button(\n",
    "        description='Continue',\n",
    "        button_style='info',\n",
    "        tooltip='Continue',\n",
    "        icon='flask', \n",
    "        style={'description_width': '300px'}\n",
    ")\n",
    "    \n",
    "def on_minimal_target_value_dropdown_change(change):\n",
    "        if minimal_target_value_dropdown.value == 'yes':\n",
    "                minimal_target_value_input.disabled = False\n",
    "                prompt_dropdown.options = ['No Context 1 - Minimal MPa', 'No Context 2 - Minimal MPa', 'No Context 3 - Minimal MPa', 'Context 1 - Minimal MPa', 'Context 2 - Minimal MPa', 'Context 3 - Minimal MPa']\n",
    "                prompt_dropdown.value = 'No Context 1 - Minimal MPa'\n",
    "        if minimal_target_value_dropdown.value == 'no':\n",
    "                minimal_target_value_input.disabled = True\n",
    "                prompt_dropdown.options = ['No Context 1 - Optimial MPa', 'No Context 2 - Optimial MPa', 'No Context 3 - Optimial MPa', 'Context 1 - Optimial MPa', 'Context 2 - Optimial MPa', 'Context 3 - Optimial MPa']\n",
    "                prompt_dropdown.value = 'No Context 1 - Optimial MPa'\n",
    "\n",
    "\n",
    "minimal_target_value_dropdown.observe(on_minimal_target_value_dropdown_change, names='value')\n",
    "\n",
    "\n",
    "container = widgets.VBox([model_dropdown, minimal_target_value_dropdown, minimal_target_value_input, prompt_dropdown, test_time_dropdown, number_development_input, number_experiments_input ])    \n",
    "title = widgets.HTML(\"<h1>Configuration of inverse design experiments<h1/><h2>Specify the experiments you want to conduct :</h2>\")\n",
    "configuration = widgets.VBox([title ,container])\n",
    "display(configuration)"
   ]
  }
 ],
 "metadata": {
  "kernelspec": {
   "display_name": "Python (myvenv)",
   "language": "python",
   "name": "venv"
  },
  "language_info": {
   "codemirror_mode": {
    "name": "ipython",
    "version": 3
   },
   "file_extension": ".py",
   "mimetype": "text/x-python",
   "name": "python",
   "nbconvert_exporter": "python",
   "pygments_lexer": "ipython3",
   "version": "3.10.13"
  }
 },
 "nbformat": 4,
 "nbformat_minor": 5
}
